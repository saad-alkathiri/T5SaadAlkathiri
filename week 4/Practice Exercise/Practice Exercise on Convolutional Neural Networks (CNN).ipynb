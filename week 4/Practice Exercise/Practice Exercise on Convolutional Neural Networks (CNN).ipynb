{
 "cells": [
  {
   "cell_type": "markdown",
   "id": "7a07a343",
   "metadata": {},
   "source": [
    "# Practice Exercise on Convolutional Neural Networks (CNN)\n",
    "\n",
    "Welcome to the Practice Exercise on Convolutional Neural Networks (CNN). In this exercise, we will focus on an image classification task where the goal is to predict whether an image contains a cat or a dog. We will work with a dataset of labeled images and build, train, and evaluate a CNN model. This practice will allow you to apply your understanding of CNNs to achieve high accuracy in image classification.\n",
    "\n",
    "---\n",
    "\n",
    "## Dataset Overview\n",
    "\n",
    "### **Dataset Name:** Cats and Dogs Image Dataset\n",
    "\n",
    "### **Description:**  \n",
    "The dataset contains images of cats and dogs labeled for classification purposes. Each image belongs to one of the two classes: 'Cat' or 'Dog'. The goal is to classify the images correctly based on the content (i.e., whether the image is of a cat or a dog). The dataset is often used to test image classification models.\n",
    "\n",
    "### **Features:**\n",
    "There are two main folders which are:\n",
    "- `Cat`: Images labeled as containing a cat.\n",
    "- `Dog`: Images labeled as containing a dog.\n",
    "\n",
    "### **Target Variable:**\n",
    "- The goal is to predict whether an image contains a cat or a dog.\n"
   ]
  },
  {
   "cell_type": "markdown",
   "id": "3cb05577",
   "metadata": {},
   "source": [
    "## Data Loading and Preprocessing"
   ]
  },
  {
   "cell_type": "markdown",
   "id": "fa968f9e",
   "metadata": {},
   "source": [
    "\n",
    "We will start by loading the dataset and preprocessing the images. This includes:\n",
    "- Resizing images .\n",
    "- Normalizing pixel values.\n",
    "\n",
    "Add more if needed!\n"
   ]
  },
  {
   "cell_type": "code",
   "execution_count": null,
   "id": "fb0fc5ee",
   "metadata": {},
   "outputs": [],
   "source": []
  },
  {
   "cell_type": "markdown",
   "id": "e2230c4b",
   "metadata": {},
   "source": [
    "## Data Splitting\n",
    "In this section, we will split our dataset into three parts:\n",
    "\n",
    "* Training set (70%): This portion of the dataset is used to train the CNN model.\n",
    "* Validation set (15%): This portion is used to validate the model during training, helping us tune hyperparameters and avoid overfitting.\n",
    "* Test set (15%): This portion is used to evaluate the model after training, to check its generalization to unseen data."
   ]
  },
  {
   "cell_type": "code",
   "execution_count": null,
   "id": "82f4df4b",
   "metadata": {},
   "outputs": [],
   "source": []
  },
  {
   "cell_type": "markdown",
   "id": "fc3ce960",
   "metadata": {},
   "source": [
    "## Building the CNN Model"
   ]
  },
  {
   "cell_type": "markdown",
   "id": "2ca1a1cb",
   "metadata": {},
   "source": [
    "\n",
    "Now, we will define our CNN architecture using `tensorflow.keras`. The architecture will consist of:\n",
    "- Convolutional layers followed by max-pooling layers\n",
    "- Flatten layer\n",
    "- Dense layers\n",
    "- Output layer\n"
   ]
  },
  {
   "cell_type": "code",
   "execution_count": null,
   "id": "91a5150c",
   "metadata": {},
   "outputs": [],
   "source": []
  },
  {
   "cell_type": "markdown",
   "id": "e0fff4b8",
   "metadata": {},
   "source": [
    "## Training the Model"
   ]
  },
  {
   "cell_type": "markdown",
   "id": "a84cb05c",
   "metadata": {},
   "source": [
    "\n",
    "Train the CNN model using the `fit` function. We will use the training and validation we created earlier.\n",
    "\n",
    "Fill in the code to train the model for a specified number of epochs.\n"
   ]
  },
  {
   "cell_type": "code",
   "execution_count": null,
   "id": "0e11ddcd",
   "metadata": {},
   "outputs": [],
   "source": []
  },
  {
   "cell_type": "markdown",
   "id": "3ba878f4",
   "metadata": {},
   "source": [
    "## Evaluating the Model"
   ]
  },
  {
   "cell_type": "markdown",
   "id": "d508bce7",
   "metadata": {},
   "source": [
    "\n",
    "After training, evaluate the model on the validation data to check its performance.\n"
   ]
  },
  {
   "cell_type": "code",
   "execution_count": null,
   "id": "5cd3a753",
   "metadata": {},
   "outputs": [],
   "source": []
  },
  {
   "cell_type": "markdown",
   "id": "93e0c1b9",
   "metadata": {},
   "source": [
    "## Testing with New Images"
   ]
  },
  {
   "cell_type": "markdown",
   "id": "db94a8ae",
   "metadata": {},
   "source": [
    "Finally, let's test the model with some new images. Preprocess the images and use the trained model to predict whether the image is of a cat or a dog.\n"
   ]
  },
  {
   "cell_type": "code",
   "execution_count": null,
   "id": "1cf379ec",
   "metadata": {},
   "outputs": [],
   "source": []
  }
 ],
 "metadata": {
  "language_info": {
   "name": "python"
  }
 },
 "nbformat": 4,
 "nbformat_minor": 5
}
