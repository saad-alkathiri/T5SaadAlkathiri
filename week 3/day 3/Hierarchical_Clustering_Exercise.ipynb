{
  "cells": [
    {
      "cell_type": "markdown",
      "metadata": {
        "id": "4e6V-qSMAXvS"
      },
      "source": [
        "#**Python Implementation using the scikit-learn library**"
      ]
    },
    {
      "cell_type": "markdown",
      "metadata": {
        "id": "Sgm2w_pxAg9T"
      },
      "source": [
        "#Step 1 : import libraries"
      ]
    },
    {
      "cell_type": "code",
      "execution_count": null,
      "metadata": {
        "id": "u_JngPINAVKr"
      },
      "outputs": [],
      "source": [
        "import numpy as np\n",
        "from scipy.cluster.hierarchy import dendrogram, linkage\n",
        "import matplotlib.pyplot as plt"
      ]
    },
    {
      "cell_type": "markdown",
      "metadata": {
        "id": "MhY9ICWhA0Pa"
      },
      "source": [
        "#Step 2 : Randomly chosen dataset"
      ]
    },
    {
      "cell_type": "code",
      "execution_count": null,
      "metadata": {
        "id": "VYbzzX4IApVo"
      },
      "outputs": [],
      "source": [
        "X = np.array([[1, 2], [1, 4], [1, 0],\n",
        "              [4, 2], [4, 4], [4, 0]])\n"
      ]
    },
    {
      "cell_type": "markdown",
      "metadata": {
        "id": "DQMzE7CyA7zp"
      },
      "source": [
        "#Step 3 : Perform hierarchical clustering  + Ploting\n"
      ]
    },
    {
      "cell_type": "code",
      "execution_count": null,
      "metadata": {
        "id": "K5KNTRWYBIJH"
      },
      "outputs": [],
      "source": [
        "Z = linkage(X, 'ward')\n",
        "\n",
        "dendrogram(Z)\n",
        "\n",
        "plt.title('Hierarchical Clustering Dendrogram')\n",
        "plt.xlabel('Data point')\n",
        "plt.ylabel('Distance')\n",
        "plt.show()\n"
      ]
    }
  ],
  "metadata": {
    "colab": {
      "provenance": []
    },
    "kernelspec": {
      "display_name": "Python 3",
      "name": "python3"
    },
    "language_info": {
      "name": "python"
    }
  },
  "nbformat": 4,
  "nbformat_minor": 0
}
