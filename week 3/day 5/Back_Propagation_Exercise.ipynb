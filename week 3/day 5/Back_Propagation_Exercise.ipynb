{
  "cells": [
    {
      "cell_type": "markdown",
      "metadata": {
        "id": "E9uCkFiBGnWc"
      },
      "source": [
        "#**Back Propagation**"
      ]
    },
    {
      "cell_type": "markdown",
      "metadata": {
        "id": "U02xjPIyG1cZ"
      },
      "source": [
        "#Step 1 : import libraries"
      ]
    },
    {
      "cell_type": "code",
      "execution_count": 16,
      "metadata": {
        "id": "Fx3E4_efG5Do"
      },
      "outputs": [],
      "source": [
        "import numpy as np\n",
        "import pandas as pd\n",
        "from sklearn.model_selection import train_test_split\n",
        "import matplotlib.pyplot as plt"
      ]
    },
    {
      "cell_type": "markdown",
      "metadata": {
        "id": "eHvhfU6MGtpk"
      },
      "source": [
        "#Step 2 :Load the Dataset\n",
        "###Upload palmer penguins dataset \" / LAB/ Dataset/ penguins.csv\n",
        "\n",
        "\n",
        "\n"
      ]
    },
    {
      "cell_type": "code",
      "execution_count": 17,
      "metadata": {
        "id": "btqadzfLGmQD"
      },
      "outputs": [],
      "source": [
        "# Loading dataset\n",
        "df = pd.read_csv('penguins.csv')\n",
        "\n",
        "# Dividing the dataset into target variable and features\n",
        "X = df.drop(columns=['species'])\n",
        "y = df['species']\n",
        "\n"
      ]
    },
    {
      "cell_type": "markdown",
      "metadata": {
        "id": "cuyxnZAWHIGk"
      },
      "source": [
        "#Step 3: Split Dataset in Training and Testing\n"
      ]
    },
    {
      "cell_type": "code",
      "execution_count": 18,
      "metadata": {
        "id": "TMNbaJekHCid"
      },
      "outputs": [],
      "source": [
        "# Split dataset into training and test sets\n",
        "X_train, X_test, y_train, y_test = train_test_split(X, y, test_size=0.2, random_state=42)\n"
      ]
    },
    {
      "cell_type": "markdown",
      "metadata": {
        "id": "yfoa5GAXHhUD"
      },
      "source": [
        "# Step 4 : initializing the hyperparameters"
      ]
    },
    {
      "cell_type": "code",
      "execution_count": 5,
      "metadata": {
        "id": "gCYVcC4THc7i"
      },
      "outputs": [],
      "source": [
        "learning_rate = 0.1\n",
        "iterations = 5000\n",
        "N = y_train.size\n",
        "# Input features\n",
        "input_size = 4\n",
        "\n",
        "# Hidden layers\n",
        "hidden_size = 2\n",
        "\n",
        "# Output layer\n",
        "output_size = 3"
      ]
    },
    {
      "cell_type": "markdown",
      "metadata": {
        "id": "IHrgBvH7HtCr"
      },
      "source": [
        "#Step 5 : Initialize Weights"
      ]
    },
    {
      "cell_type": "code",
      "execution_count": 6,
      "metadata": {
        "id": "RAba9ZSXHwvm"
      },
      "outputs": [],
      "source": [
        "np.random.seed(10)\n",
        "\n",
        "# Hidden layer\n",
        "W1 = np.random.normal(scale=0.5, size=(input_size, hidden_size))\n",
        "\n",
        "# Output layer\n",
        "W2 = np.random.normal(scale=0.5, size=(hidden_size , output_size))\n"
      ]
    },
    {
      "cell_type": "markdown",
      "metadata": {
        "id": "IE37VIICH1QA"
      },
      "source": [
        "#Step 6 : mean squared error, accuracy and sigmoid.\n",
        "\n"
      ]
    },
    {
      "cell_type": "code",
      "execution_count": 19,
      "metadata": {
        "id": "sLYRpQ-HH0ms"
      },
      "outputs": [],
      "source": [
        "def mean_squared_error(y_true, y_pred):\n",
        "    return np.mean((y_true - y_pred) ** 2)\n",
        "\n"
      ]
    },
    {
      "cell_type": "markdown",
      "metadata": {
        "id": "g1AZMCfcIqMi"
      },
      "source": [
        "# Step 7 : Building the Backpropogation Model in Python\n",
        "### We will create a for loop for a given number of iterations and will update the weights in each iteration. The model will go through three phases feedforward propagation, the error calculation phase, and the backpropagation phase.\n"
      ]
    },
    {
      "cell_type": "code",
      "execution_count": 15,
      "metadata": {
        "id": "B-bjwuX2ILsm"
      },
      "outputs": [
        {
          "ename": "ValueError",
          "evalue": "shapes (275,6) and (4,2) not aligned: 6 (dim 1) != 4 (dim 0)",
          "output_type": "error",
          "traceback": [
            "\u001b[1;31m---------------------------------------------------------------------------\u001b[0m",
            "\u001b[1;31mValueError\u001b[0m                                Traceback (most recent call last)",
            "Cell \u001b[1;32mIn[15], line 5\u001b[0m\n\u001b[0;32m      1\u001b[0m \u001b[38;5;66;03m# Training loop\u001b[39;00m\n\u001b[0;32m      3\u001b[0m \u001b[38;5;28;01mfor\u001b[39;00m itr \u001b[38;5;129;01min\u001b[39;00m \u001b[38;5;28mrange\u001b[39m(iterations):\n\u001b[0;32m      4\u001b[0m     \u001b[38;5;66;03m# Feedforward propagation\u001b[39;00m\n\u001b[1;32m----> 5\u001b[0m     Z1 \u001b[38;5;241m=\u001b[39m \u001b[43mnp\u001b[49m\u001b[38;5;241;43m.\u001b[39;49m\u001b[43mdot\u001b[49m\u001b[43m(\u001b[49m\u001b[43mX_train\u001b[49m\u001b[43m,\u001b[49m\u001b[43m \u001b[49m\u001b[43mW1\u001b[49m\u001b[43m)\u001b[49m\n\u001b[0;32m      6\u001b[0m     A1 \u001b[38;5;241m=\u001b[39m sigmoid(Z1)\n\u001b[0;32m      7\u001b[0m     Z2 \u001b[38;5;241m=\u001b[39m np\u001b[38;5;241m.\u001b[39mdot(A1, W2)\n",
            "\u001b[1;31mValueError\u001b[0m: shapes (275,6) and (4,2) not aligned: 6 (dim 1) != 4 (dim 0)"
          ]
        }
      ],
      "source": [
        "# Training loop\n",
        "\n",
        "for itr in range(iterations):\n",
        "    # Feedforward propagation\n",
        "    Z1 = np.dot(X_train, W1)\n",
        "    A1 = sigmoid(Z1)\n",
        "    Z2 = np.dot(A1, W2)\n",
        "    A2 = sigmoid(Z2)\n",
        "\n",
        "    # Calculate error\n",
        "    mse = mean_squared_error(A2, y_train)\n",
        "    acc = accuracy(np.eye(output_size)[y_train], A2)\n",
        "    new_row = pd.DataFrame({\"mse\": [mse], \"accuracy\": [acc]})\n",
        "    results = pd.concat([results, new_row], ignore_index=True)\n",
        "\n",
        "    # Backpropagation\n",
        "    E1 = A2 - np.eye(output_size)[y_train]\n",
        "    dW1 = E1 * A2 * (1 - A2)\n",
        "    E2 = np.dot(dW1, W2.T)\n",
        "    dW2 = E2 * A1 * (1 - A1)\n",
        "\n",
        "    # Update weights\n",
        "    W2_update = np.dot(A1.T, dW1) / N\n",
        "    W1_update = np.dot(X_train.T, dW2) / N\n",
        "    W2 = W2 - learning_rate * W2_update\n",
        "    W1 = W1 - learning_rate * W1_update\n"
      ]
    },
    {
      "cell_type": "markdown",
      "metadata": {
        "id": "ByknpjOWJVBv"
      },
      "source": []
    },
    {
      "cell_type": "markdown",
      "metadata": {
        "id": "NZitfndrLnI8"
      },
      "source": [
        "# Step 8 : Plot the mean squared error and accuracy using the pandas plot() function.\n",
        "\n"
      ]
    },
    {
      "cell_type": "code",
      "execution_count": 6,
      "metadata": {
        "id": "1f6f-aMMLsfa"
      },
      "outputs": [],
      "source": []
    },
    {
      "cell_type": "markdown",
      "metadata": {
        "id": "M1ES5bR_Lzy1"
      },
      "source": [
        "###Now we will calculate the accuracy of the model.\n",
        "\n"
      ]
    },
    {
      "cell_type": "code",
      "execution_count": 7,
      "metadata": {
        "id": "_YvQLRVRLzK9"
      },
      "outputs": [],
      "source": [
        "# Test the model\n",
        "\n"
      ]
    },
    {
      "cell_type": "markdown",
      "metadata": {
        "id": "b0uAIhZlLx6h"
      },
      "source": [
        "#**Well Done :)**"
      ]
    }
  ],
  "metadata": {
    "colab": {
      "provenance": []
    },
    "kernelspec": {
      "display_name": "Python 3",
      "name": "python3"
    },
    "language_info": {
      "codemirror_mode": {
        "name": "ipython",
        "version": 3
      },
      "file_extension": ".py",
      "mimetype": "text/x-python",
      "name": "python",
      "nbconvert_exporter": "python",
      "pygments_lexer": "ipython3",
      "version": "3.12.3"
    }
  },
  "nbformat": 4,
  "nbformat_minor": 0
}
