{
  "cells": [
    {
      "cell_type": "markdown",
      "metadata": {
        "id": "0PzxgQHw9ccz"
      },
      "source": [
        "#**SVD**"
      ]
    },
    {
      "cell_type": "markdown",
      "metadata": {
        "id": "luFPiQ2i9myX"
      },
      "source": [
        "#import libraries"
      ]
    },
    {
      "cell_type": "code",
      "execution_count": 1,
      "metadata": {
        "id": "G-4zglvy9WkS"
      },
      "outputs": [],
      "source": [
        "import numpy as np"
      ]
    },
    {
      "cell_type": "markdown",
      "metadata": {
        "id": "nZFDaio79sgu"
      },
      "source": [
        "#Load the tabular dataset :\n",
        "\n",
        "dataset :\n",
        "\n",
        "\n",
        "    [1, 2, 1, 0, 4],\n",
        "\n",
        "    [2, 3, 4, 0, 2],\n",
        "\n",
        "    [3, 1, 1, 0, 5],\n",
        "\n",
        "    [4, 0, 2, 5, 0],\n",
        "\n",
        "    [5, 4, 0, 1, 2]\n"
      ]
    },
    {
      "cell_type": "code",
      "execution_count": 2,
      "metadata": {
        "id": "MQ009CYG9qQS"
      },
      "outputs": [],
      "source": [
        "dataset = np.array([[1, 2, 1, 0, 4],\n",
        "[2, 3, 4, 0, 2],\n",
        "[3, 1, 1, 0, 5],\n",
        "[4, 0, 2, 5, 0],\n",
        "[5, 4, 0, 1, 2]])"
      ]
    },
    {
      "cell_type": "markdown",
      "metadata": {
        "id": "2roOK1gZ9yQo"
      },
      "source": [
        "#Perform Singular Value Decomposition (SVD)\n"
      ]
    },
    {
      "cell_type": "code",
      "execution_count": 3,
      "metadata": {
        "id": "0I7M_W_E9vka"
      },
      "outputs": [],
      "source": [
        "U, s, VT = np.linalg.svd(dataset)"
      ]
    },
    {
      "cell_type": "markdown",
      "metadata": {
        "id": "5ygCLQNt96Vb"
      },
      "source": [
        "# Extract the singular values and vectors"
      ]
    },
    {
      "cell_type": "code",
      "execution_count": 4,
      "metadata": {
        "id": "d_hE13Sn94k5"
      },
      "outputs": [],
      "source": [
        "singular_values = np.diag(s)\n",
        "left_singular_vectors = U\n",
        "right_singular_vectors = VT.T"
      ]
    },
    {
      "cell_type": "markdown",
      "metadata": {
        "id": "piU0jgug9_gD"
      },
      "source": [
        "# Perform dimensionality reduction by selecting top k singular values and vectors\n"
      ]
    },
    {
      "cell_type": "code",
      "execution_count": 5,
      "metadata": {
        "id": "c55uNNCH9-5d"
      },
      "outputs": [],
      "source": [
        "k = 2\n",
        "reduced_dataset = np.dot(np.dot(left_singular_vectors[:, :k], singular_values[:k, :k]), right_singular_vectors[:, :k].T)\n"
      ]
    },
    {
      "cell_type": "markdown",
      "metadata": {
        "id": "4raXfdzz-Gex"
      },
      "source": [
        "# Print the original and reduced datasets\n"
      ]
    },
    {
      "cell_type": "code",
      "execution_count": 6,
      "metadata": {
        "colab": {
          "base_uri": "https://localhost:8080/"
        },
        "id": "c7YIIN3S-DTl",
        "outputId": "391dcf18-0093-48a3-b185-ea17943e85b2"
      },
      "outputs": [
        {
          "name": "stdout",
          "output_type": "stream",
          "text": [
            "Original Dataset:\n",
            "[[1 2 1 0 4]\n",
            " [2 3 4 0 2]\n",
            " [3 1 1 0 5]\n",
            " [4 0 2 5 0]\n",
            " [5 4 0 1 2]]\n",
            "\n",
            "Reduced Dataset:\n",
            "[[ 1.68517423  2.16823828  1.03211446 -0.78448115  3.35352314]\n",
            " [ 2.74997839  2.2474459   1.40223771  0.45592685  3.01586488]\n",
            " [ 2.65238506  2.68115204  1.46466169 -0.25083665  3.88603508]\n",
            " [ 4.38005462  0.72090701  1.60881922  4.57102627 -0.63704194]\n",
            " [ 4.0133692   2.54718625  1.88634605  1.65093492  3.00682541]]\n"
          ]
        }
      ],
      "source": [
        "print(\"Original Dataset:\")\n",
        "print(dataset)\n",
        "print(\"\\nReduced Dataset:\")\n",
        "print(reduced_dataset)"
      ]
    },
    {
      "cell_type": "markdown",
      "metadata": {
        "id": "ASLB0yos-Ofm"
      },
      "source": [
        "#**Well done :)**"
      ]
    }
  ],
  "metadata": {
    "colab": {
      "provenance": []
    },
    "kernelspec": {
      "display_name": "Python 3",
      "name": "python3"
    },
    "language_info": {
      "codemirror_mode": {
        "name": "ipython",
        "version": 3
      },
      "file_extension": ".py",
      "mimetype": "text/x-python",
      "name": "python",
      "nbconvert_exporter": "python",
      "pygments_lexer": "ipython3",
      "version": "3.12.3"
    }
  },
  "nbformat": 4,
  "nbformat_minor": 0
}
