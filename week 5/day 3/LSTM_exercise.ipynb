{
  "cells": [
    {
      "cell_type": "markdown",
      "metadata": {
        "id": "DeDMU8rGJtM7"
      },
      "source": [
        "# **LSTM Exercise**"
      ]
    },
    {
      "cell_type": "markdown",
      "metadata": {
        "id": "73pucHkDJoyN"
      },
      "source": [
        "## Import libraries"
      ]
    },
    {
      "cell_type": "code",
      "execution_count": 28,
      "metadata": {
        "id": "W3AjCzdQJmSK"
      },
      "outputs": [],
      "source": [
        "import numpy as np\n",
        "import matplotlib.pyplot as plt\n",
        "import pandas as pd\n",
        "import tensorflow as tf\n",
        "from tensorflow.keras.models import Sequential\n",
        "from tensorflow.keras.layers import Dense\n",
        "from tensorflow.keras.layers import LSTM\n",
        "from sklearn.preprocessing import MinMaxScaler\n",
        "from sklearn.metrics import mean_squared_error"
      ]
    },
    {
      "cell_type": "markdown",
      "metadata": {
        "id": "91J8oMpJKYkO"
      },
      "source": [
        "## load the dataset\n",
        "### Dataset path : 5- Time series forecasting/2-2- Time Series Forecasting (LSTM and GRU)\n",
        "/ LAB/Dataset/traffic.csv\n"
      ]
    },
    {
      "cell_type": "code",
      "execution_count": 29,
      "metadata": {
        "id": "Cyx1SwgJJ8Y9"
      },
      "outputs": [
        {
          "data": {
            "text/html": [
              "<div>\n",
              "<style scoped>\n",
              "    .dataframe tbody tr th:only-of-type {\n",
              "        vertical-align: middle;\n",
              "    }\n",
              "\n",
              "    .dataframe tbody tr th {\n",
              "        vertical-align: top;\n",
              "    }\n",
              "\n",
              "    .dataframe thead th {\n",
              "        text-align: right;\n",
              "    }\n",
              "</style>\n",
              "<table border=\"1\" class=\"dataframe\">\n",
              "  <thead>\n",
              "    <tr style=\"text-align: right;\">\n",
              "      <th></th>\n",
              "      <th>Vehicles</th>\n",
              "    </tr>\n",
              "  </thead>\n",
              "  <tbody>\n",
              "    <tr>\n",
              "      <th>0</th>\n",
              "      <td>15</td>\n",
              "    </tr>\n",
              "    <tr>\n",
              "      <th>1</th>\n",
              "      <td>13</td>\n",
              "    </tr>\n",
              "    <tr>\n",
              "      <th>2</th>\n",
              "      <td>10</td>\n",
              "    </tr>\n",
              "    <tr>\n",
              "      <th>3</th>\n",
              "      <td>7</td>\n",
              "    </tr>\n",
              "    <tr>\n",
              "      <th>4</th>\n",
              "      <td>9</td>\n",
              "    </tr>\n",
              "  </tbody>\n",
              "</table>\n",
              "</div>"
            ],
            "text/plain": [
              "   Vehicles\n",
              "0        15\n",
              "1        13\n",
              "2        10\n",
              "3         7\n",
              "4         9"
            ]
          },
          "execution_count": 29,
          "metadata": {},
          "output_type": "execute_result"
        }
      ],
      "source": [
        "dataframe = pd.read_csv('traffic.csv', usecols=[2], engine='python')\n",
        "dataset = dataframe.values\n",
        "dataset = dataset.astype('float32')\n",
        "dataframe.head()"
      ]
    },
    {
      "cell_type": "markdown",
      "metadata": {
        "id": "i7yyKGkVKi88"
      },
      "source": [
        "## Normalize the dataset"
      ]
    },
    {
      "cell_type": "code",
      "execution_count": 30,
      "metadata": {
        "id": "dacoPvqbKdpP"
      },
      "outputs": [],
      "source": [
        "scaler = MinMaxScaler(feature_range=(0, 1))\n",
        "dataset = scaler.fit_transform(dataset)"
      ]
    },
    {
      "cell_type": "markdown",
      "metadata": {
        "id": "GV-4d-zxKvJI"
      },
      "source": [
        "## split into train and test sets"
      ]
    },
    {
      "cell_type": "code",
      "execution_count": 31,
      "metadata": {
        "id": "4K7bNBFiKr_j"
      },
      "outputs": [
        {
          "name": "stdout",
          "output_type": "stream",
          "text": [
            "32240 15880\n"
          ]
        }
      ],
      "source": [
        "train_size = int(len(dataset) * 0.67)\n",
        "test_size = len(dataset) - train_size\n",
        "train, test = dataset[0:train_size,:], dataset[train_size:len(dataset),:]\n",
        "print(len(train), len(test))"
      ]
    },
    {
      "cell_type": "markdown",
      "metadata": {
        "id": "Enlx1TQhLcp5"
      },
      "source": [
        "## Fit the LSTM"
      ]
    },
    {
      "cell_type": "code",
      "execution_count": 32,
      "metadata": {},
      "outputs": [],
      "source": [
        "def create_dataset(dataset, look_back=1):\n",
        "    dataX, dataY = [], []\n",
        "    for i in range(len(dataset)-look_back-1):\n",
        "        a = dataset[i:(i+look_back), 0]  # Indent this line\n",
        "        dataX.append(a)\n",
        "        dataY.append(dataset[i + look_back, 0])\n",
        "    return np.array(dataX), np.array(dataY)"
      ]
    },
    {
      "cell_type": "code",
      "execution_count": 33,
      "metadata": {},
      "outputs": [],
      "source": [
        "# reshape into X=t and Y=t+1\n",
        "look_back = 1\n",
        "trainX, trainY = create_dataset(train, look_back)\n",
        "testX, testY = create_dataset(test, look_back)\n"
      ]
    },
    {
      "cell_type": "code",
      "execution_count": 34,
      "metadata": {
        "id": "tKTnFm3lLcIj"
      },
      "outputs": [],
      "source": [
        "# reshape input to be [samples, time steps, features]\n",
        "trainX = np.reshape(trainX, (trainX.shape[0], 1, trainX.shape[1]))\n",
        "testX = np.reshape(testX, (testX.shape[0], 1, testX.shape[1]))\n"
      ]
    },
    {
      "cell_type": "code",
      "execution_count": 35,
      "metadata": {},
      "outputs": [
        {
          "name": "stdout",
          "output_type": "stream",
          "text": [
            "Epoch 1/100\n"
          ]
        },
        {
          "name": "stderr",
          "output_type": "stream",
          "text": [
            "c:\\Users\\wwwwe\\AppData\\Local\\Programs\\Python\\Python312\\Lib\\site-packages\\keras\\src\\layers\\rnn\\rnn.py:204: UserWarning: Do not pass an `input_shape`/`input_dim` argument to a layer. When using Sequential models, prefer using an `Input(shape)` object as the first layer in the model instead.\n",
            "  super().__init__(**kwargs)\n"
          ]
        },
        {
          "name": "stdout",
          "output_type": "stream",
          "text": [
            "3224/3224 - 7s - 2ms/step - loss: 0.0028\n",
            "Epoch 2/100\n",
            "3224/3224 - 5s - 1ms/step - loss: 7.4035e-04\n",
            "Epoch 3/100\n",
            "3224/3224 - 5s - 1ms/step - loss: 7.3592e-04\n",
            "Epoch 4/100\n",
            "3224/3224 - 5s - 1ms/step - loss: 7.3171e-04\n",
            "Epoch 5/100\n",
            "3224/3224 - 5s - 1ms/step - loss: 7.3343e-04\n",
            "Epoch 6/100\n",
            "3224/3224 - 5s - 1ms/step - loss: 7.3215e-04\n",
            "Epoch 7/100\n",
            "3224/3224 - 4s - 1ms/step - loss: 7.3390e-04\n",
            "Epoch 8/100\n",
            "3224/3224 - 4s - 1ms/step - loss: 7.3373e-04\n",
            "Epoch 9/100\n",
            "3224/3224 - 5s - 1ms/step - loss: 7.3329e-04\n",
            "Epoch 10/100\n",
            "3224/3224 - 5s - 1ms/step - loss: 7.3138e-04\n",
            "Epoch 11/100\n",
            "3224/3224 - 5s - 1ms/step - loss: 7.3304e-04\n",
            "Epoch 12/100\n",
            "3224/3224 - 5s - 1ms/step - loss: 7.3244e-04\n",
            "Epoch 13/100\n",
            "3224/3224 - 5s - 1ms/step - loss: 7.3149e-04\n",
            "Epoch 14/100\n",
            "3224/3224 - 5s - 1ms/step - loss: 7.3353e-04\n",
            "Epoch 15/100\n",
            "3224/3224 - 5s - 1ms/step - loss: 7.3171e-04\n",
            "Epoch 16/100\n",
            "3224/3224 - 5s - 1ms/step - loss: 7.3078e-04\n",
            "Epoch 17/100\n",
            "3224/3224 - 5s - 2ms/step - loss: 7.3339e-04\n",
            "Epoch 18/100\n",
            "3224/3224 - 5s - 1ms/step - loss: 7.3246e-04\n",
            "Epoch 19/100\n",
            "3224/3224 - 5s - 1ms/step - loss: 7.3278e-04\n",
            "Epoch 20/100\n",
            "3224/3224 - 4s - 1ms/step - loss: 7.3128e-04\n",
            "Epoch 21/100\n",
            "3224/3224 - 5s - 1ms/step - loss: 7.3277e-04\n",
            "Epoch 22/100\n",
            "3224/3224 - 5s - 1ms/step - loss: 7.3290e-04\n",
            "Epoch 23/100\n",
            "3224/3224 - 5s - 1ms/step - loss: 7.3208e-04\n",
            "Epoch 24/100\n",
            "3224/3224 - 5s - 1ms/step - loss: 7.3252e-04\n",
            "Epoch 25/100\n",
            "3224/3224 - 5s - 1ms/step - loss: 7.3248e-04\n",
            "Epoch 26/100\n",
            "3224/3224 - 5s - 1ms/step - loss: 7.3232e-04\n",
            "Epoch 27/100\n",
            "3224/3224 - 5s - 1ms/step - loss: 7.3169e-04\n",
            "Epoch 28/100\n",
            "3224/3224 - 5s - 2ms/step - loss: 7.3125e-04\n",
            "Epoch 29/100\n",
            "3224/3224 - 5s - 1ms/step - loss: 7.3194e-04\n",
            "Epoch 30/100\n",
            "3224/3224 - 5s - 1ms/step - loss: 7.3182e-04\n",
            "Epoch 31/100\n",
            "3224/3224 - 5s - 2ms/step - loss: 7.3078e-04\n",
            "Epoch 32/100\n",
            "3224/3224 - 5s - 2ms/step - loss: 7.3278e-04\n",
            "Epoch 33/100\n",
            "3224/3224 - 5s - 1ms/step - loss: 7.3277e-04\n",
            "Epoch 34/100\n",
            "3224/3224 - 5s - 1ms/step - loss: 7.3291e-04\n",
            "Epoch 35/100\n",
            "3224/3224 - 5s - 2ms/step - loss: 7.3059e-04\n",
            "Epoch 36/100\n",
            "3224/3224 - 5s - 1ms/step - loss: 7.3019e-04\n",
            "Epoch 37/100\n",
            "3224/3224 - 5s - 1ms/step - loss: 7.3265e-04\n",
            "Epoch 38/100\n",
            "3224/3224 - 5s - 1ms/step - loss: 7.3183e-04\n",
            "Epoch 39/100\n",
            "3224/3224 - 5s - 2ms/step - loss: 7.3030e-04\n",
            "Epoch 40/100\n",
            "3224/3224 - 5s - 1ms/step - loss: 7.3028e-04\n",
            "Epoch 41/100\n",
            "3224/3224 - 5s - 1ms/step - loss: 7.3068e-04\n",
            "Epoch 42/100\n",
            "3224/3224 - 5s - 2ms/step - loss: 7.3232e-04\n",
            "Epoch 43/100\n",
            "3224/3224 - 5s - 2ms/step - loss: 7.3098e-04\n",
            "Epoch 44/100\n",
            "3224/3224 - 5s - 2ms/step - loss: 7.3241e-04\n",
            "Epoch 45/100\n",
            "3224/3224 - 5s - 1ms/step - loss: 7.3261e-04\n",
            "Epoch 46/100\n",
            "3224/3224 - 5s - 1ms/step - loss: 7.3140e-04\n",
            "Epoch 47/100\n",
            "3224/3224 - 5s - 1ms/step - loss: 7.3095e-04\n",
            "Epoch 48/100\n",
            "3224/3224 - 5s - 1ms/step - loss: 7.3028e-04\n",
            "Epoch 49/100\n",
            "3224/3224 - 5s - 2ms/step - loss: 7.3246e-04\n",
            "Epoch 50/100\n",
            "3224/3224 - 5s - 2ms/step - loss: 7.3186e-04\n",
            "Epoch 51/100\n",
            "3224/3224 - 5s - 2ms/step - loss: 7.3033e-04\n",
            "Epoch 52/100\n",
            "3224/3224 - 5s - 1ms/step - loss: 7.3085e-04\n",
            "Epoch 53/100\n",
            "3224/3224 - 5s - 1ms/step - loss: 7.3142e-04\n",
            "Epoch 54/100\n",
            "3224/3224 - 5s - 1ms/step - loss: 7.3278e-04\n",
            "Epoch 55/100\n",
            "3224/3224 - 5s - 1ms/step - loss: 7.3119e-04\n",
            "Epoch 56/100\n",
            "3224/3224 - 5s - 2ms/step - loss: 7.3060e-04\n",
            "Epoch 57/100\n",
            "3224/3224 - 5s - 2ms/step - loss: 7.3104e-04\n",
            "Epoch 58/100\n",
            "3224/3224 - 5s - 1ms/step - loss: 7.3207e-04\n",
            "Epoch 59/100\n",
            "3224/3224 - 5s - 2ms/step - loss: 7.3106e-04\n",
            "Epoch 60/100\n",
            "3224/3224 - 5s - 1ms/step - loss: 7.3157e-04\n",
            "Epoch 61/100\n",
            "3224/3224 - 5s - 1ms/step - loss: 7.3093e-04\n",
            "Epoch 62/100\n",
            "3224/3224 - 5s - 1ms/step - loss: 7.2948e-04\n",
            "Epoch 63/100\n",
            "3224/3224 - 5s - 2ms/step - loss: 7.3155e-04\n",
            "Epoch 64/100\n",
            "3224/3224 - 5s - 1ms/step - loss: 7.3032e-04\n",
            "Epoch 65/100\n",
            "3224/3224 - 5s - 1ms/step - loss: 7.3106e-04\n",
            "Epoch 66/100\n",
            "3224/3224 - 5s - 1ms/step - loss: 7.2984e-04\n",
            "Epoch 67/100\n",
            "3224/3224 - 5s - 1ms/step - loss: 7.3223e-04\n",
            "Epoch 68/100\n",
            "3224/3224 - 5s - 1ms/step - loss: 7.3266e-04\n",
            "Epoch 69/100\n",
            "3224/3224 - 5s - 1ms/step - loss: 7.2925e-04\n",
            "Epoch 70/100\n",
            "3224/3224 - 5s - 1ms/step - loss: 7.3000e-04\n",
            "Epoch 71/100\n",
            "3224/3224 - 5s - 1ms/step - loss: 7.3277e-04\n",
            "Epoch 72/100\n",
            "3224/3224 - 5s - 1ms/step - loss: 7.3167e-04\n",
            "Epoch 73/100\n",
            "3224/3224 - 5s - 1ms/step - loss: 7.3161e-04\n",
            "Epoch 74/100\n",
            "3224/3224 - 5s - 1ms/step - loss: 7.3017e-04\n",
            "Epoch 75/100\n",
            "3224/3224 - 5s - 1ms/step - loss: 7.3122e-04\n",
            "Epoch 76/100\n",
            "3224/3224 - 5s - 2ms/step - loss: 7.2901e-04\n",
            "Epoch 77/100\n",
            "3224/3224 - 5s - 1ms/step - loss: 7.2964e-04\n",
            "Epoch 78/100\n",
            "3224/3224 - 5s - 1ms/step - loss: 7.3070e-04\n",
            "Epoch 79/100\n",
            "3224/3224 - 5s - 1ms/step - loss: 7.3075e-04\n",
            "Epoch 80/100\n",
            "3224/3224 - 5s - 2ms/step - loss: 7.2965e-04\n",
            "Epoch 81/100\n",
            "3224/3224 - 5s - 1ms/step - loss: 7.3025e-04\n",
            "Epoch 82/100\n",
            "3224/3224 - 5s - 1ms/step - loss: 7.2952e-04\n",
            "Epoch 83/100\n",
            "3224/3224 - 5s - 1ms/step - loss: 7.3100e-04\n",
            "Epoch 84/100\n",
            "3224/3224 - 5s - 2ms/step - loss: 7.2998e-04\n",
            "Epoch 85/100\n",
            "3224/3224 - 5s - 1ms/step - loss: 7.3251e-04\n",
            "Epoch 86/100\n",
            "3224/3224 - 5s - 1ms/step - loss: 7.3112e-04\n",
            "Epoch 87/100\n",
            "3224/3224 - 5s - 2ms/step - loss: 7.3067e-04\n",
            "Epoch 88/100\n",
            "3224/3224 - 5s - 1ms/step - loss: 7.2893e-04\n",
            "Epoch 89/100\n",
            "3224/3224 - 5s - 2ms/step - loss: 7.3060e-04\n",
            "Epoch 90/100\n",
            "3224/3224 - 5s - 2ms/step - loss: 7.3017e-04\n",
            "Epoch 91/100\n",
            "3224/3224 - 10s - 3ms/step - loss: 7.3029e-04\n",
            "Epoch 92/100\n",
            "3224/3224 - 5s - 2ms/step - loss: 7.3034e-04\n",
            "Epoch 93/100\n",
            "3224/3224 - 5s - 2ms/step - loss: 7.3138e-04\n",
            "Epoch 94/100\n",
            "3224/3224 - 5s - 2ms/step - loss: 7.3152e-04\n",
            "Epoch 95/100\n",
            "3224/3224 - 5s - 1ms/step - loss: 7.3024e-04\n",
            "Epoch 96/100\n",
            "3224/3224 - 4s - 1ms/step - loss: 7.2997e-04\n",
            "Epoch 97/100\n",
            "3224/3224 - 4s - 1ms/step - loss: 7.3133e-04\n",
            "Epoch 98/100\n",
            "3224/3224 - 5s - 1ms/step - loss: 7.2959e-04\n",
            "Epoch 99/100\n",
            "3224/3224 - 5s - 1ms/step - loss: 7.3052e-04\n",
            "Epoch 100/100\n",
            "3224/3224 - 5s - 2ms/step - loss: 7.3070e-04\n"
          ]
        },
        {
          "data": {
            "text/plain": [
              "<keras.src.callbacks.history.History at 0x1c66615aa50>"
            ]
          },
          "execution_count": 35,
          "metadata": {},
          "output_type": "execute_result"
        }
      ],
      "source": [
        "model = Sequential()\n",
        "model.add(LSTM(4, input_shape=(1, look_back)))\n",
        "model.add(Dense(1))\n",
        "model.compile(loss='mean_squared_error', optimizer='adam')\n",
        "model.fit(trainX, trainY, epochs=100, batch_size=10, verbose=2)\n"
      ]
    },
    {
      "cell_type": "markdown",
      "metadata": {
        "id": "NwP_TpFfL7nA"
      },
      "source": [
        "## Make preductuion and evaluatuin matrix."
      ]
    },
    {
      "cell_type": "code",
      "execution_count": 36,
      "metadata": {
        "id": "4lEgbNGULrbv"
      },
      "outputs": [
        {
          "name": "stdout",
          "output_type": "stream",
          "text": [
            "\u001b[1m1008/1008\u001b[0m \u001b[32m━━━━━━━━━━━━━━━━━━━━\u001b[0m\u001b[37m\u001b[0m \u001b[1m2s\u001b[0m 1ms/step\n",
            "\u001b[1m497/497\u001b[0m \u001b[32m━━━━━━━━━━━━━━━━━━━━\u001b[0m\u001b[37m\u001b[0m \u001b[1m1s\u001b[0m 1ms/step\n",
            "Train Score: 4.83 RMSE\n",
            "Test Score: 5.49 RMSE\n"
          ]
        }
      ],
      "source": [
        "# make predictions\n",
        "trainPredict = model.predict(trainX)\n",
        "testPredict = model.predict(testX)\n",
        "# invert predictions\n",
        "trainPredict = scaler.inverse_transform(trainPredict)\n",
        "trainY = scaler.inverse_transform([trainY])\n",
        "testPredict = scaler.inverse_transform(testPredict)\n",
        "testY = scaler.inverse_transform([testY])\n",
        "# calculate root mean squared error\n",
        "trainScore = np.sqrt(mean_squared_error(trainY[0], trainPredict[:,0]))\n",
        "print('Train Score: %.2f RMSE' % (trainScore))\n",
        "testScore = np.sqrt(mean_squared_error(testY[0], testPredict[:,0]))\n",
        "print('Test Score: %.2f RMSE' % (testScore))\n"
      ]
    },
    {
      "cell_type": "markdown",
      "metadata": {
        "id": "ZpkMef5uMULa"
      },
      "source": [
        "## Visualize the result"
      ]
    },
    {
      "cell_type": "code",
      "execution_count": 37,
      "metadata": {
        "id": "B1T1VicEMXC_"
      },
      "outputs": [
        {
          "data": {
            "image/png": "[encoded data removed]",
            "text/plain": [
              "<Figure size 640x480 with 1 Axes>"
            ]
          },
          "metadata": {},
          "output_type": "display_data"
        },
        {
          "ename": "",
          "evalue": "",
          "output_type": "error",
          "traceback": [
            "\u001b[1;31mThe Kernel crashed while executing code in the current cell or a previous cell. \n",
            "\u001b[1;31mPlease review the code in the cell(s) to identify a possible cause of the failure. \n",
            "\u001b[1;31mClick <a href='https://aka.ms/vscodeJupyterKernelCrash'>here</a> for more info. \n",
            "\u001b[1;31mView Jupyter <a href='command:jupyter.viewOutput'>log</a> for further details."
          ]
        }
      ],
      "source": [
        "# shift train predictions for plotting\n",
        "trainPredictPlot = np.empty_like(dataset)\n",
        "trainPredictPlot[:, :] = np.nan\n",
        "trainPredictPlot[look_back:len(trainPredict)+look_back, :] = trainPredict\n",
        "# shift test predictions for plotting\n",
        "testPredictPlot = np.empty_like(dataset)\n",
        "testPredictPlot[:, :] = np.nan\n",
        "testPredictPlot[len(trainPredict)+(look_back*2)+1:len(dataset)-1, :] = testPredict\n",
        "# plot baseline and predictions\n",
        "plt.plot(scaler.inverse_transform(dataset))\n",
        "plt.plot(trainPredictPlot)\n",
        "plt.plot(testPredictPlot)\n",
        "plt.show()\n"
      ]
    },
    {
      "cell_type": "markdown",
      "metadata": {
        "id": "_80frLg-MENd"
      },
      "source": [
        "# **Well done** :)"
      ]
    }
  ],
  "metadata": {
    "colab": {
      "provenance": []
    },
    "kernelspec": {
      "display_name": "Python 3",
      "name": "python3"
    },
    "language_info": {
      "codemirror_mode": {
        "name": "ipython",
        "version": 3
      },
      "file_extension": ".py",
      "mimetype": "text/x-python",
      "name": "python",
      "nbconvert_exporter": "python",
      "pygments_lexer": "ipython3",
      "version": "3.12.3"
    }
  },
  "nbformat": 4,
  "nbformat_minor": 0
}
