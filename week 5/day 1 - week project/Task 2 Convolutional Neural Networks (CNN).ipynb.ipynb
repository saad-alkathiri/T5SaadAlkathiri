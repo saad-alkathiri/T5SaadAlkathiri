{
 "cells": [
  {
   "cell_type": "markdown",
   "id": "69e7471b",
   "metadata": {},
   "source": [
    "# Exam on Convolutional Neural Networks (CNN)\n",
    "\n",
    "Welcome to the Convolutional Neural Networks (CNN) practical exam. In this exam, you will work on an image classification task to predict the type of traffic sign. You are provided with a dataset of traffic sign images, and your task is to build, train, and evaluate a CNN model.\n",
    "\n",
    "---\n",
    "\n",
    "## Dataset Overview\n",
    "### **Dataset:**\n",
    "* Just run the command under the `Load Data` section to get the data downloaded and unzipped or you can access it [here](https://drive.google.com/file/d/1HwMV-Lt_sWoxc5v6igmTxTwomS3DR6cQ/view?usp=sharing)\n",
    "### **Dataset Name:** Traffic Signs\n",
    "\n",
    "### **Description:**  \n",
    "The dataset contains images of various German traffic signs labeled for classification purposes. Each image belongs to one of the 43 classes, representing different types of traffic signs.\n",
    "\n",
    "### **Labels:**\n",
    "```python\n",
    "classes = {\n",
    "    0:  'Speed limit (20km/h)',\n",
    "    1:  'Speed limit (30km/h)', \n",
    "    2:  'Speed limit (50km/h)', \n",
    "    3:  'Speed limit (60km/h)', \n",
    "    4:  'Speed limit (70km/h)', \n",
    "    5:  'Speed limit (80km/h)', \n",
    "    6:  'End of speed limit (80km/h)', \n",
    "    7:  'Speed limit (100km/h)', \n",
    "    8:  'Speed limit (120km/h)', \n",
    "    9:  'No passing', \n",
    "    10: 'No passing veh over 3.5 tons', \n",
    "    11: 'Right-of-way at intersection', \n",
    "    12: 'Priority road', \n",
    "    13: 'Yield', \n",
    "    14: 'Stop', \n",
    "    15: 'No vehicles', \n",
    "    16: 'Veh > 3.5 tons prohibited', \n",
    "    17: 'No entry', \n",
    "    18: 'General caution', \n",
    "    19: 'Dangerous curve left', \n",
    "    20: 'Dangerous curve right', \n",
    "    21: 'Double curve', \n",
    "    22: 'Bumpy road', \n",
    "    23: 'Slippery road', \n",
    "    24: 'Road narrows on the right', \n",
    "    25: 'Road work', \n",
    "    26: 'Traffic signals', \n",
    "    27: 'Pedestrians', \n",
    "    28: 'Children crossing', \n",
    "    29: 'Bicycles crossing', \n",
    "    30: 'Beware of ice/snow',\n",
    "    31: 'Wild animals crossing', \n",
    "    32: 'End speed + passing limits', \n",
    "    33: 'Turn right ahead', \n",
    "    34: 'Turn left ahead', \n",
    "    35: 'Ahead only', \n",
    "    36: 'Go straight or right', \n",
    "    37: 'Go straight or left', \n",
    "    38: 'Keep right', \n",
    "    39: 'Keep left', \n",
    "    40: 'Roundabout mandatory', \n",
    "    41: 'End of no passing', \n",
    "    42: 'End no passing veh > 3.5 tons'\n",
    "}\n",
    "```\n",
    "\n"
   ]
  },
  {
   "cell_type": "markdown",
   "id": "66c6f645",
   "metadata": {},
   "source": [
    "## Load Data\n",
    "Run the following command to get the data and unzip it, alternatively you can access the data [here](https://drive.google.com/file/d/1HwMV-Lt_sWoxc5v6igmTxTwomS3DR6cQ/view?usp=sharing)."
   ]
  },
  {
   "cell_type": "code",
   "execution_count": null,
   "id": "ee08de6b",
   "metadata": {},
   "outputs": [],
   "source": []
  },
  {
   "cell_type": "markdown",
   "id": "9bb9f30e",
   "metadata": {},
   "source": [
    "## Import Libraries"
   ]
  },
  {
   "cell_type": "code",
   "execution_count": 10,
   "id": "22207f85",
   "metadata": {},
   "outputs": [],
   "source": [
    "import tensorflow as tf\n",
    "import os\n",
    "import shutil\n",
    "from tensorflow.keras.models import Sequential\n",
    "from tensorflow.keras.layers import Conv2D, MaxPooling2D, Flatten, Dense, Dropout\n",
    "from tensorflow.keras.preprocessing.image import ImageDataGenerator\n",
    "from tensorflow import keras\n",
    "import numpy as np\n",
    "from sklearn.metrics import accuracy_score, precision_score, recall_score, f1_score, confusion_matrix\n",
    "from sklearn.metrics import classification_report\n",
    "import pandas as pd\n",
    "import base64\n",
    "from pymongo import MongoClient\n",
    "import matplotlib.pyplot as plt\n",
    "from sklearn.metrics import ConfusionMatrixDisplay\n",
    "\n",
    "\n",
    "from tensorflow.keras.utils import to_categorical\n",
    "from tensorflow.keras.preprocessing.image import load_img, img_to_array\n",
    "from sklearn.model_selection import train_test_split\n"
   ]
  },
  {
   "cell_type": "markdown",
   "id": "3aa9945d",
   "metadata": {},
   "source": [
    "## Data Preprocessing\n",
    "In this section, preprocess the dataset by:\n",
    "- Loading the images from the file paths.\n",
    "- Resizing the images to a consistent size.\n",
    "- Normalizing pixel values.\n",
    "\n",
    "Add more if needed!"
   ]
  },
  {
   "cell_type": "code",
   "execution_count": 11,
   "id": "72042d3e",
   "metadata": {},
   "outputs": [
    {
     "data": {
      "text/plain": [
       "ClassId\n",
       "2    2250\n",
       "1    2220\n",
       "4    1980\n",
       "5    1860\n",
       "3    1410\n",
       "0     210\n",
       "Name: count, dtype: int64"
      ]
     },
     "execution_count": 11,
     "metadata": {},
     "output_type": "execute_result"
    }
   ],
   "source": [
    "df = pd.read_csv('Traffic_Signs/Dataset_MetaData.csv')\n",
    "\n",
    "#drop ClassId > 5\n",
    "df.drop(df[df['ClassId'] > 5].index, inplace = True)\n",
    "\n",
    "df['ClassId'].value_counts()\n"
   ]
  },
  {
   "cell_type": "code",
   "execution_count": 12,
   "id": "067f43a7",
   "metadata": {},
   "outputs": [],
   "source": [
    "img_height = 64\n",
    "img_width = 64\n",
    "num_classes = len(df['ClassId'].unique())\n",
    "\n",
    "\n",
    "images = []\n",
    "labels = []\n",
    "\n",
    "for index, row in df.iterrows():\n",
    "\n",
    "    img_path = (\"Traffic_Signs/\" + row['Path'])\n",
    "    img = load_img(img_path, target_size=(img_height, img_width))\n",
    "    img_array = img_to_array(img)\n",
    "    \n",
    "\n",
    "    img_array = img_array / 255.0\n",
    "    \n",
    "    images.append(img_array)\n",
    "    labels.append(row['ClassId'])\n",
    "\n",
    "images = np.array(images)\n",
    "labels = to_categorical(labels, num_classes=num_classes)"
   ]
  },
  {
   "cell_type": "code",
   "execution_count": 13,
   "id": "05732b36",
   "metadata": {},
   "outputs": [],
   "source": [
    "X_train, X_val, y_train, y_val = train_test_split(images, labels, test_size=0.2, random_state=42)\n",
    "\n",
    "train_dataset = tf.data.Dataset.from_tensor_slices((X_train, y_train))\n",
    "val_dataset = tf.data.Dataset.from_tensor_slices((X_val, y_val))\n",
    "\n",
    "train_dataset = train_dataset.shuffle(buffer_size=1000).batch(32).prefetch(tf.data.AUTOTUNE)\n",
    "val_dataset = val_dataset.batch(32).prefetch(tf.data.AUTOTUNE)\n"
   ]
  },
  {
   "cell_type": "markdown",
   "id": "541f3c2b",
   "metadata": {},
   "source": [
    "## Data Splitting\n",
    "In this section, we will split our dataset into three parts:\n",
    "\n",
    "* Training set (70%).\n",
    "* Validation set (15%).\n",
    "* Test set (15%)."
   ]
  },
  {
   "cell_type": "code",
   "execution_count": 14,
   "id": "cd2cca39",
   "metadata": {},
   "outputs": [],
   "source": [
    "X_train, X_val, y_train, y_val = train_test_split(images, labels, test_size=0.15, random_state=42)\n",
    "\n",
    "train_dataset = tf.data.Dataset.from_tensor_slices((X_train, y_train))\n",
    "val_dataset = tf.data.Dataset.from_tensor_slices((X_val, y_val))\n",
    "\n",
    "train_dataset = train_dataset.shuffle(buffer_size=1000).batch(32).prefetch(tf.data.AUTOTUNE)\n",
    "val_dataset = val_dataset.batch(32).prefetch(tf.data.AUTOTUNE)"
   ]
  },
  {
   "cell_type": "markdown",
   "id": "83974596",
   "metadata": {},
   "source": [
    "## Building the CNN Model\n",
    "In this section, define the architecture of the CNN model. The architecture may consist of:\n",
    "- Convolutional layers with max-pooling\n",
    "- Dropout layers\n",
    "- Flatten layer\n",
    "- Dense layers\n",
    "- Output layer\n",
    "\n",
    "Add and remove any of these as needed!"
   ]
  },
  {
   "cell_type": "code",
   "execution_count": 17,
   "id": "23decc31",
   "metadata": {},
   "outputs": [],
   "source": [
    "model = tf.keras.Sequential([\n",
    "    tf.keras.layers.Conv2D(32, (3, 3), activation='relu', input_shape=(img_height, img_width, 3)),\n",
    "    tf.keras.layers.MaxPooling2D(pool_size=(2, 2)),\n",
    "    tf.keras.layers.Flatten(),\n",
    "    tf.keras.layers.Dense(128, activation='relu'),\n",
    "    tf.keras.layers.Dense(num_classes, activation='softmax')\n",
    "])\n",
    "\n",
    "model.compile(optimizer='adam', loss='categorical_crossentropy', metrics=['accuracy'])\n"
   ]
  },
  {
   "cell_type": "markdown",
   "id": "fe1c0940",
   "metadata": {},
   "source": [
    "## Training the Model\n",
    "Train the CNN model using the training data and validate it on the validation set."
   ]
  },
  {
   "cell_type": "code",
   "execution_count": 46,
   "id": "ce31faf9",
   "metadata": {},
   "outputs": [
    {
     "name": "stdout",
     "output_type": "stream",
     "text": [
      "Epoch 1/10\n",
      "\u001b[1m264/264\u001b[0m \u001b[32m━━━━━━━━━━━━━━━━━━━━\u001b[0m\u001b[37m\u001b[0m \u001b[1m12s\u001b[0m 45ms/step - accuracy: 1.0000 - loss: 0.0047 - val_accuracy: 0.9718 - val_loss: 0.1254\n",
      "Epoch 2/10\n",
      "\u001b[1m264/264\u001b[0m \u001b[32m━━━━━━━━━━━━━━━━━━━━\u001b[0m\u001b[37m\u001b[0m \u001b[1m10s\u001b[0m 39ms/step - accuracy: 1.0000 - loss: 0.0039 - val_accuracy: 0.9732 - val_loss: 0.1216\n",
      "Epoch 3/10\n",
      "\u001b[1m264/264\u001b[0m \u001b[32m━━━━━━━━━━━━━━━━━━━━\u001b[0m\u001b[37m\u001b[0m \u001b[1m10s\u001b[0m 38ms/step - accuracy: 1.0000 - loss: 0.0032 - val_accuracy: 0.9738 - val_loss: 0.1194\n",
      "Epoch 4/10\n",
      "\u001b[1m264/264\u001b[0m \u001b[32m━━━━━━━━━━━━━━━━━━━━\u001b[0m\u001b[37m\u001b[0m \u001b[1m10s\u001b[0m 38ms/step - accuracy: 1.0000 - loss: 0.0019 - val_accuracy: 0.9698 - val_loss: 0.1343\n",
      "Epoch 5/10\n",
      "\u001b[1m264/264\u001b[0m \u001b[32m━━━━━━━━━━━━━━━━━━━━\u001b[0m\u001b[37m\u001b[0m \u001b[1m11s\u001b[0m 43ms/step - accuracy: 0.9938 - loss: 0.0247 - val_accuracy: 0.9020 - val_loss: 0.3503\n",
      "Epoch 6/10\n",
      "\u001b[1m264/264\u001b[0m \u001b[32m━━━━━━━━━━━━━━━━━━━━\u001b[0m\u001b[37m\u001b[0m \u001b[1m9s\u001b[0m 35ms/step - accuracy: 0.9650 - loss: 0.1126 - val_accuracy: 0.9631 - val_loss: 0.1517\n",
      "Epoch 7/10\n",
      "\u001b[1m264/264\u001b[0m \u001b[32m━━━━━━━━━━━━━━━━━━━━\u001b[0m\u001b[37m\u001b[0m \u001b[1m10s\u001b[0m 38ms/step - accuracy: 0.9917 - loss: 0.0264 - val_accuracy: 0.9644 - val_loss: 0.1462\n",
      "Epoch 8/10\n",
      "\u001b[1m264/264\u001b[0m \u001b[32m━━━━━━━━━━━━━━━━━━━━\u001b[0m\u001b[37m\u001b[0m \u001b[1m10s\u001b[0m 36ms/step - accuracy: 0.9983 - loss: 0.0100 - val_accuracy: 0.9510 - val_loss: 0.1858\n",
      "Epoch 9/10\n",
      "\u001b[1m264/264\u001b[0m \u001b[32m━━━━━━━━━━━━━━━━━━━━\u001b[0m\u001b[37m\u001b[0m \u001b[1m10s\u001b[0m 37ms/step - accuracy: 0.9983 - loss: 0.0106 - val_accuracy: 0.9591 - val_loss: 0.1919\n",
      "Epoch 10/10\n",
      "\u001b[1m264/264\u001b[0m \u001b[32m━━━━━━━━━━━━━━━━━━━━\u001b[0m\u001b[37m\u001b[0m \u001b[1m10s\u001b[0m 36ms/step - accuracy: 0.9963 - loss: 0.0144 - val_accuracy: 0.9671 - val_loss: 0.1510\n"
     ]
    }
   ],
   "source": [
    "history = model.fit(train_dataset, validation_data=val_dataset, epochs=10)"
   ]
  },
  {
   "cell_type": "markdown",
   "id": "25ad1b22",
   "metadata": {},
   "source": [
    "## Evaluate the Model\n",
    "Evaluate the performance of the model on the test set."
   ]
  },
  {
   "cell_type": "code",
   "execution_count": 47,
   "id": "eb9ed70f",
   "metadata": {},
   "outputs": [
    {
     "name": "stdout",
     "output_type": "stream",
     "text": [
      "\u001b[1m 1/47\u001b[0m \u001b[37m━━━━━━━━━━━━━━━━━━━━\u001b[0m \u001b[1m1s\u001b[0m 25ms/step - accuracy: 1.0000 - loss: 0.0283"
     ]
    },
    {
     "name": "stdout",
     "output_type": "stream",
     "text": [
      "\u001b[1m47/47\u001b[0m \u001b[32m━━━━━━━━━━━━━━━━━━━━\u001b[0m\u001b[37m\u001b[0m \u001b[1m1s\u001b[0m 12ms/step - accuracy: 0.9728 - loss: 0.1205\n",
      "Validation Loss: 0.15100066363811493\n",
      "Validation Accuracy: 0.9671140909194946\n"
     ]
    }
   ],
   "source": [
    "#The accuracy\n",
    "test_loss, test_accuracy = model.evaluate(val_dataset)\n",
    "print(f'Validation Loss: {test_loss}')\n",
    "print(f'Validation Accuracy: {test_accuracy}')\n"
   ]
  },
  {
   "cell_type": "markdown",
   "id": "a37fca33",
   "metadata": {},
   "source": [
    "## Make Predictions\n",
    "Use the trained model to make predictions on new or unseen traffic sign images."
   ]
  },
  {
   "cell_type": "markdown",
   "id": "f1ab3608",
   "metadata": {},
   "source": [
    "if you need new, we prepared some data for you [here](https://drive.google.com/file/d/1S_vpQntND9839x8kJpegaEgtSIA4JxHO/view?usp=sharing), or you can simply run the following command to get the data and unzip it.\n",
    "\n",
    "<small>Note: please note that the file contain MetaData to tell you what each image contains <b>THIS IS JUST FOR YOU TO MAKE SURE</b></smmall>"
   ]
  },
  {
   "cell_type": "code",
   "execution_count": 48,
   "id": "be46ba26",
   "metadata": {},
   "outputs": [
    {
     "data": {
      "text/plain": [
       "ClassId\n",
       "2    750\n",
       "1    720\n",
       "4    660\n",
       "5    630\n",
       "3    450\n",
       "0     60\n",
       "Name: count, dtype: int64"
      ]
     },
     "execution_count": 48,
     "metadata": {},
     "output_type": "execute_result"
    }
   ],
   "source": [
    "df2 = pd.read_csv('Test_Dataset/Dataset_MetaData.csv')\n",
    "\n",
    "#drop ClassId > 5\n",
    "df2.drop(df2[df2['ClassId'] > 5].index, inplace = True)\n",
    "\n",
    "df2['ClassId'].value_counts()\n"
   ]
  },
  {
   "cell_type": "code",
   "execution_count": 49,
   "id": "94ebf273",
   "metadata": {},
   "outputs": [],
   "source": [
    "img_height = 64\n",
    "img_width = 64\n",
    "num_classes = len(df['ClassId'].unique())\n",
    "\n",
    "\n",
    "images = []\n",
    "labels = []\n",
    "\n",
    "for index, row in df.iterrows():\n",
    "\n",
    "    img_path = (\"Traffic_Signs/\" + row['Path'])\n",
    "    img = load_img(img_path, target_size=(img_height, img_width))\n",
    "    img_array = img_to_array(img)\n",
    "    \n",
    "\n",
    "    img_array = img_array / 255.0\n",
    "    \n",
    "    images.append(img_array)\n",
    "    labels.append(row['ClassId'])\n",
    "\n",
    "images = np.array(images)\n",
    "labels = to_categorical(labels, num_classes=num_classes)"
   ]
  },
  {
   "cell_type": "code",
   "execution_count": 50,
   "id": "82b772bf",
   "metadata": {},
   "outputs": [],
   "source": [
    "test_dataset = tf.data.Dataset.from_tensor_slices((images, labels))\n",
    "\n",
    "test_dataset = test_dataset.batch(32).prefetch(tf.data.AUTOTUNE)"
   ]
  },
  {
   "cell_type": "code",
   "execution_count": 51,
   "id": "abe31c55",
   "metadata": {},
   "outputs": [
    {
     "name": "stdout",
     "output_type": "stream",
     "text": [
      "\u001b[1m311/311\u001b[0m \u001b[32m━━━━━━━━━━━━━━━━━━━━\u001b[0m\u001b[37m\u001b[0m \u001b[1m2s\u001b[0m 6ms/step - accuracy: 0.9947 - loss: 0.0310\n",
      "Validation Loss: 0.026669412851333618\n",
      "Validation Accuracy: 0.9946626424789429\n"
     ]
    }
   ],
   "source": [
    "test_loss, test_accuracy = model.evaluate(test_dataset)\n",
    "print(f'Validation Loss: {test_loss}')\n",
    "print(f'Validation Accuracy: {test_accuracy}')\n"
   ]
  },
  {
   "cell_type": "markdown",
   "id": "8430600d",
   "metadata": {},
   "source": [
    "## Model Performance Visualization\n",
    "Visualize performance metrics such as accuracy and loss over the epochs."
   ]
  },
  {
   "cell_type": "code",
   "execution_count": 52,
   "id": "50624cfe",
   "metadata": {},
   "outputs": [
    {
     "data": {
      "image/png": "[encoded data removed]",
      "text/plain": [
       "<Figure size 640x480 with 1 Axes>"
      ]
     },
     "metadata": {},
     "output_type": "display_data"
    }
   ],
   "source": [
    "plt.plot(history.history['accuracy'])\n",
    "plt.plot(history.history['loss'])\n",
    "plt.xlabel('epoch')\n",
    "plt.ylabel('accuracy')\n",
    "plt.title('model accuracy')\n",
    "plt.ylim(0, 1)  # Assuming the values are between 0 and 1\n",
    "plt.show()"
   ]
  },
  {
   "cell_type": "markdown",
   "id": "8d4f3348",
   "metadata": {},
   "source": [
    "## Save the Model\n",
    "Save the trained CNN model for submission."
   ]
  },
  {
   "cell_type": "code",
   "execution_count": null,
   "id": "fe6b2df0",
   "metadata": {},
   "outputs": [
    {
     "name": "stderr",
     "output_type": "stream",
     "text": [
      "WARNING:absl:You are saving your model as an HDF5 file via `model.save()` or `keras.saving.save_model(model)`. This file format is considered legacy. We recommend using instead the native Keras format, e.g. `model.save('my_model.keras')` or `keras.saving.save_model(model, 'my_model.keras')`. \n"
     ]
    }
   ],
   "source": [
    "model.save('modelCNN.h5')"
   ]
  },
  {
   "cell_type": "markdown",
   "id": "ed90995f",
   "metadata": {},
   "source": [
    "## Project Questions:\n",
    "\n",
    "1. **Data Preprocessing**: Explain why you chose your specific data preprocessing techniques (e.g., resizing images, normalization, data augmentation). How do these preprocessing steps improve the performance of your CNN model?\n",
    "2. **Model Architecture**: Describe the architecture of your CNN model (e.g., number of convolutional layers, kernel sizes, pooling layers). Why did you choose this structure, and how do you expect each layer to contribute to feature extraction?\n",
    "3. **Activation Functions**: Justify your choice of activation functions. How do they influence the training and output of your CNN?\n",
    "4. **Training Process**: Discuss your choice of batch size, number of epochs, and optimizer. How did these decisions impact the training process and the convergence of the model?\n",
    "5. **Loss Function and Metrics**: Explain why you chose the specific loss function and evaluation metrics for this classification task. How do they align with the goal of correctly classifying traffic signs?\n",
    "6. **Regularization Techniques**: If you used regularization methods like dropout or batch normalization, explain why you implemented them and how they helped prevent overfitting in your model.\n",
    "7. **Model Evaluation**: Justify the method you used to evaluate your model's performance on the test set. Why did you select these evaluation techniques, and what insights did they provide about your model's accuracy and generalization ability?\n",
    "8. **Model Visualization**: Explain the significance of the performance visualizations (e.g., accuracy and loss curves). What do they tell you about your model's training process and its ability to generalize?\n",
    "9. **Overfitting and Underfitting**: Analyze whether the model encountered any overfitting or underfitting during training. What strategies could you implement to mitigate these issues?"
   ]
  },
  {
   "cell_type": "markdown",
   "id": "02e7f114",
   "metadata": {},
   "source": [
    "### Answer Here:"
   ]
  },
  {
   "cell_type": "markdown",
   "id": "fe032911",
   "metadata": {},
   "source": []
  }
 ],
 "metadata": {
  "kernelspec": {
   "display_name": "Python 3",
   "language": "python",
   "name": "python3"
  },
  "language_info": {
   "codemirror_mode": {
    "name": "ipython",
    "version": 3
   },
   "file_extension": ".py",
   "mimetype": "text/x-python",
   "name": "python",
   "nbconvert_exporter": "python",
   "pygments_lexer": "ipython3",
   "version": "3.12.3"
  }
 },
 "nbformat": 4,
 "nbformat_minor": 5
}
