{
  "cells": [
    {
      "cell_type": "markdown",
      "metadata": {
        "id": "eeozLGFv922L"
      },
      "source": [
        "# Image Classification using Logistic Regression and Softmax Regression\n",
        "### Fashion-MNIST Dataset"
      ]
    },
    {
      "cell_type": "markdown",
      "metadata": {
        "id": "b-7TRSa8922M"
      },
      "source": [
        "## 1. Install Required Libraries\n",
        "Before starting, you need to install the necessary Python libraries:\n",
        "- **TensorFlow**: Used for building and training the Softmax Regression model.\n",
        "- **Scikit-Learn**: Provides the Logistic Regression implementation.\n",
        "- **Matplotlib**: Used for plotting images and confusion matrices.\n",
        "```bash\n",
        "pip install tensorflow scikit-learn matplotlib\n",
        "```\n"
      ]
    },
    {
      "cell_type": "markdown",
      "metadata": {
        "id": "pnF5bCMY922M"
      },
      "source": [
        "## 2. Import Necessary Libraries\n",
        "In this step, we import the necessary libraries to handle data processing, model training, and evaluation.\n"
      ]
    },
    {
      "cell_type": "code",
      "execution_count": 19,
      "metadata": {
        "id": "B-Sa3Ku7922M"
      },
      "outputs": [],
      "source": [
        "import numpy as np\n",
        "import matplotlib.pyplot as plt\n",
        "from sklearn.linear_model import LogisticRegression\n",
        "from sklearn.metrics import accuracy_score, confusion_matrix\n",
        "from tensorflow.keras import datasets, layers, models\n",
        "from tensorflow.keras.utils import to_categorical\n",
        "import tensorflow as tf"
      ]
    },
    {
      "cell_type": "markdown",
      "metadata": {
        "id": "cfLJPfVC922N"
      },
      "source": [
        "## 3. Load and Preprocess the Fashion-MNIST Dataset\n",
        "Fashion-MNIST is a dataset of Zalando's article images consisting of 60,000 training images and 10,000 test images, categorized into 10 classes.\n"
      ]
    },
    {
      "cell_type": "code",
      "execution_count": 20,
      "metadata": {
        "colab": {
          "base_uri": "https://localhost:8080/"
        },
        "id": "JP4zaGye922N",
        "outputId": "b868850d-1836-4df4-a8f7-2b8d9f119efa"
      },
      "outputs": [],
      "source": [
        "# Load the Fashion-MNIST dataset\n",
        "(train_images, train_labels), (test_images, test_labels) = datasets.fashion_mnist.load_data()\n",
        "\n",
        "# Normalize the pixel values to be between 0 and 1\n",
        "train_images = train_images / 255.0\n",
        "test_images = test_images / 255.0\n",
        "\n",
        "# Flatten images for Logistic Regression\n",
        "train_images_flattened = train_images.reshape((train_images.shape[0], 28 * 28))\n",
        "test_images_flattened = test_images.reshape((test_images.shape[0], 28 * 28))"
      ]
    },
    {
      "cell_type": "markdown",
      "metadata": {
        "id": "GHQ5xeeR922N"
      },
      "source": [
        "## 4. Logistic Regression for Image Classification\n",
        "Logistic Regression is used for multi-class classification. We fit the model using the flattened images."
      ]
    },
    {
      "cell_type": "code",
      "execution_count": 24,
      "metadata": {
        "id": "LVGwXX8U922N"
      },
      "outputs": [
        {
          "name": "stderr",
          "output_type": "stream",
          "text": [
            "c:\\Users\\wwwwe\\AppData\\Local\\Programs\\Python\\Python312\\Lib\\site-packages\\sklearn\\linear_model\\_logistic.py:1247: FutureWarning: 'multi_class' was deprecated in version 1.5 and will be removed in 1.7. From then on, it will always use 'multinomial'. Leave it to its default value to avoid this warning.\n",
            "  warnings.warn(\n",
            "c:\\Users\\wwwwe\\AppData\\Local\\Programs\\Python\\Python312\\Lib\\site-packages\\sklearn\\linear_model\\_sag.py:349: ConvergenceWarning: The max_iter was reached which means the coef_ did not converge\n",
            "  warnings.warn(\n"
          ]
        },
        {
          "data": {
            "text/plain": [
              "0.8439"
            ]
          },
          "execution_count": 24,
          "metadata": {},
          "output_type": "execute_result"
        }
      ],
      "source": [
        "logistic_model = LogisticRegression(multi_class='multinomial', solver='saga', max_iter=100)\n",
        "\n",
        "logistic_model.fit(train_images_flattened, train_labels)\n",
        "\n",
        "test_predictions = logistic_model.predict(test_images_flattened)"
      ]
    },
    {
      "cell_type": "code",
      "execution_count": 29,
      "metadata": {},
      "outputs": [],
      "source": [
        "train_predictions = logistic_model.predict(train_images_flattened)\n",
        "test_predictions = logistic_model.predict(test_images_flattened)"
      ]
    },
    {
      "cell_type": "code",
      "execution_count": 30,
      "metadata": {},
      "outputs": [
        {
          "data": {
            "text/plain": [
              "0.8793"
            ]
          },
          "execution_count": 30,
          "metadata": {},
          "output_type": "execute_result"
        }
      ],
      "source": [
        "accuracy_score(train_labels, train_predictions)"
      ]
    },
    {
      "cell_type": "code",
      "execution_count": 28,
      "metadata": {},
      "outputs": [
        {
          "data": {
            "text/plain": [
              "0.8439"
            ]
          },
          "execution_count": 28,
          "metadata": {},
          "output_type": "execute_result"
        }
      ],
      "source": [
        "accuracy_score(test_labels, test_predictions)"
      ]
    },
    {
      "cell_type": "markdown",
      "metadata": {
        "id": "glBceUlF922O"
      },
      "source": [
        "## 5. Softmax Regression (Using TensorFlow/Keras)\n",
        "Softmax Regression is implemented using a simple neural network in TensorFlow/Keras."
      ]
    },
    {
      "cell_type": "code",
      "execution_count": 22,
      "metadata": {
        "id": "zD35mDDw922O"
      },
      "outputs": [
        {
          "name": "stderr",
          "output_type": "stream",
          "text": [
            "c:\\Users\\wwwwe\\AppData\\Local\\Programs\\Python\\Python312\\Lib\\site-packages\\keras\\src\\layers\\core\\input_layer.py:25: UserWarning: Argument `input_shape` is deprecated. Use `shape` instead.\n",
            "  warnings.warn(\n"
          ]
        },
        {
          "name": "stdout",
          "output_type": "stream",
          "text": [
            "Epoch 1/10\n",
            "\u001b[1m1875/1875\u001b[0m \u001b[32m━━━━━━━━━━━━━━━━━━━━\u001b[0m\u001b[37m\u001b[0m \u001b[1m2s\u001b[0m 1ms/step - accuracy: 0.7419 - loss: 0.7770 - val_accuracy: 0.8229 - val_loss: 0.5134\n",
            "Epoch 2/10\n",
            "\u001b[1m1875/1875\u001b[0m \u001b[32m━━━━━━━━━━━━━━━━━━━━\u001b[0m\u001b[37m\u001b[0m \u001b[1m2s\u001b[0m 1ms/step - accuracy: 0.8369 - loss: 0.4728 - val_accuracy: 0.8375 - val_loss: 0.4707\n",
            "Epoch 3/10\n",
            "\u001b[1m1875/1875\u001b[0m \u001b[32m━━━━━━━━━━━━━━━━━━━━\u001b[0m\u001b[37m\u001b[0m \u001b[1m2s\u001b[0m 1ms/step - accuracy: 0.8487 - loss: 0.4352 - val_accuracy: 0.8382 - val_loss: 0.4656\n",
            "Epoch 4/10\n",
            "\u001b[1m1875/1875\u001b[0m \u001b[32m━━━━━━━━━━━━━━━━━━━━\u001b[0m\u001b[37m\u001b[0m \u001b[1m2s\u001b[0m 1ms/step - accuracy: 0.8529 - loss: 0.4256 - val_accuracy: 0.8378 - val_loss: 0.4655\n",
            "Epoch 5/10\n",
            "\u001b[1m1875/1875\u001b[0m \u001b[32m━━━━━━━━━━━━━━━━━━━━\u001b[0m\u001b[37m\u001b[0m \u001b[1m2s\u001b[0m 1ms/step - accuracy: 0.8583 - loss: 0.4115 - val_accuracy: 0.8369 - val_loss: 0.4651\n",
            "Epoch 6/10\n",
            "\u001b[1m1875/1875\u001b[0m \u001b[32m━━━━━━━━━━━━━━━━━━━━\u001b[0m\u001b[37m\u001b[0m \u001b[1m2s\u001b[0m 1ms/step - accuracy: 0.8620 - loss: 0.4036 - val_accuracy: 0.8391 - val_loss: 0.4602\n",
            "Epoch 7/10\n",
            "\u001b[1m1875/1875\u001b[0m \u001b[32m━━━━━━━━━━━━━━━━━━━━\u001b[0m\u001b[37m\u001b[0m \u001b[1m2s\u001b[0m 1ms/step - accuracy: 0.8607 - loss: 0.4052 - val_accuracy: 0.8438 - val_loss: 0.4492\n",
            "Epoch 8/10\n",
            "\u001b[1m1875/1875\u001b[0m \u001b[32m━━━━━━━━━━━━━━━━━━━━\u001b[0m\u001b[37m\u001b[0m \u001b[1m2s\u001b[0m 1ms/step - accuracy: 0.8619 - loss: 0.3972 - val_accuracy: 0.8448 - val_loss: 0.4432\n",
            "Epoch 9/10\n",
            "\u001b[1m1875/1875\u001b[0m \u001b[32m━━━━━━━━━━━━━━━━━━━━\u001b[0m\u001b[37m\u001b[0m \u001b[1m3s\u001b[0m 1ms/step - accuracy: 0.8622 - loss: 0.3972 - val_accuracy: 0.8301 - val_loss: 0.4886\n",
            "Epoch 10/10\n",
            "\u001b[1m1875/1875\u001b[0m \u001b[32m━━━━━━━━━━━━━━━━━━━━\u001b[0m\u001b[37m\u001b[0m \u001b[1m4s\u001b[0m 2ms/step - accuracy: 0.8637 - loss: 0.3894 - val_accuracy: 0.8429 - val_loss: 0.4497\n",
            "313/313 - 0s - 1ms/step - accuracy: 0.8429 - loss: 0.4497\n",
            "Test Accuracy: 84.29%\n"
          ]
        }
      ],
      "source": [
        "model = models.Sequential([\n",
        "    layers.InputLayer(input_shape=(28 * 28,)),  \n",
        "    layers.Dense(10, activation='softmax')    \n",
        "])\n",
        "\n",
        "model.compile(optimizer='adam',\n",
        "              loss='sparse_categorical_crossentropy',\n",
        "              metrics=['accuracy'])\n",
        "\n",
        "model.fit(train_images_flattened, train_labels, epochs=10, validation_data=(test_images_flattened, test_labels))\n",
        "\n",
        "test_loss, test_accuracy = model.evaluate(test_images_flattened, test_labels, verbose=2)\n"
      ]
    },
    {
      "cell_type": "markdown",
      "metadata": {
        "id": "JVfYMhgQ922O"
      },
      "source": [
        "## 6. Visualize Model Predictions\n",
        "We visualize the predictions made by the Softmax Regression model on the test dataset."
      ]
    },
    {
      "cell_type": "code",
      "execution_count": 23,
      "metadata": {
        "id": "5dVrUaxb922O"
      },
      "outputs": [
        {
          "name": "stdout",
          "output_type": "stream",
          "text": [
            "\u001b[1m313/313\u001b[0m \u001b[32m━━━━━━━━━━━━━━━━━━━━\u001b[0m\u001b[37m\u001b[0m \u001b[1m0s\u001b[0m 1ms/step\n"
          ]
        },
        {
          "data": {
            "image/png": "[encoded data removed]",
            "text/plain": [
              "<Figure size 1000x500 with 5 Axes>"
            ]
          },
          "metadata": {},
          "output_type": "display_data"
        }
      ],
      "source": [
        "# Predict on the test images\n",
        "predictions = model.predict(test_images_flattened)\n",
        "\n",
        "# Function to plot the image, predicted label, and true label\n",
        "def plot_image(i, predictions_array, true_label, img):\n",
        "    predictions_array, true_label, img = predictions_array[i], true_label[i], img[i]\n",
        "    plt.grid(False)\n",
        "    plt.xticks([])\n",
        "    plt.yticks([])\n",
        "\n",
        "    plt.imshow(img, cmap=plt.cm.binary)\n",
        "\n",
        "    predicted_label = np.argmax(predictions_array)\n",
        "    color = 'blue' if predicted_label == true_label else 'red'\n",
        "\n",
        "    plt.xlabel(f\"Pred: {predicted_label} ({100*np.max(predictions_array):.2f}%)\\nTrue: {true_label}\", color=color)\n",
        "\n",
        "# Plot a few test images with their predictions\n",
        "num_images = 5\n",
        "plt.figure(figsize=(10, 5))\n",
        "for i in range(num_images):\n",
        "    plt.subplot(1, num_images, i + 1)\n",
        "    plot_image(i, predictions, test_labels, test_images)\n",
        "plt.tight_layout()\n",
        "plt.show()\n"
      ]
    },
    {
      "cell_type": "markdown",
      "metadata": {
        "id": "V6xJKktw922O"
      },
      "source": [
        "### Summary\n",
        "- **Logistic Regression**: You flattened the images and used `LogisticRegression` from Scikit-Learn to classify the Fashion-MNIST dataset.\n",
        "- **Softmax Regression**: You used TensorFlow/Keras to build a simple neural network with a softmax activation function to classify the same dataset."
      ]
    }
  ],
  "metadata": {
    "colab": {
      "provenance": []
    },
    "kernelspec": {
      "display_name": "Python 3",
      "language": "python",
      "name": "python3"
    },
    "language_info": {
      "codemirror_mode": {
        "name": "ipython",
        "version": 3
      },
      "file_extension": ".py",
      "mimetype": "text/x-python",
      "name": "python",
      "nbconvert_exporter": "python",
      "pygments_lexer": "ipython3",
      "version": "3.12.3"
    }
  },
  "nbformat": 4,
  "nbformat_minor": 0
}
